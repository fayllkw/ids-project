{
  "nbformat": 4,
  "nbformat_minor": 0,
  "metadata": {
    "colab": {
      "name": "Final1.ipynb",
      "provenance": [],
      "collapsed_sections": [],
      "toc_visible": true
    },
    "kernelspec": {
      "name": "python3",
      "display_name": "Python 3"
    }
  },
  "cells": [
    {
      "cell_type": "markdown",
      "metadata": {
        "id": "cyYlo9yZn08Q",
        "colab_type": "text"
      },
      "source": [
        "# NBA Analysis\n",
        "#### Wenfei Yan, wenfeiy@andrew.cmu.edu\n",
        "#### Mengqiu Teng, mengqiut@andrew.cmu.edu"
      ]
    },
    {
      "cell_type": "markdown",
      "metadata": {
        "id": "M_CuRqj3aePd",
        "colab_type": "text"
      },
      "source": [
        "NBA (National Basketball Association), the most popular basketball league in the world, has been founded for more than 70 years. Starting with 11 teams in 1946, the league has growed to 30 teams in 2004 and kept the size till now. Today's NBA games are very different from early games in many aspects. The league didn't have 3-points until 1979. There was no defensive 3-second violation until 2001. Hand-checking is no longer allowed from 2004. The league has changed a lot, and is keep evolving.\n",
        "\n",
        "As data enthusiasts, we are naturally curious if any interesting change or trend could be reflected by DATA. Actually sport analytics has become a critical part of NBA. Now nearly every team (if not all) has a data analytics team to support the coaches and to make the team stronger. There are incredible rich data for NBA games, from box-scores to tracking data.\n",
        "\n",
        "Considering accessibility of data, aggregated statistics by game and by player are available in several websites, and play-by-play data can be retrieved by a few APIs, while tracking data are not freely and publicly available. As aggregated level stats are already rich enough to investigate for trends or patterns,  we choose to conduct analysis with the box-scores and some advanced stats based on box-scores. The dataset we will use contains player stats from 1950, which will be described more detailedly in later sections."
      ]
    },
    {
      "cell_type": "markdown",
      "metadata": {
        "id": "ANEBbqziazPI",
        "colab_type": "text"
      },
      "source": [
        "## Project Goal and Proposed Approach\n",
        "\n",
        "To further understand the dataset, we will first do some exploratory analysis and produce visualizations to answer a few quick questions. For example, are players playing less than before? Load management has recently become a buzz word and raised hot discussion. Some famous previous NBA players said there were not load balacing in the past.\n",
        "\n",
        "For more in-depth analysis, we plan to investigate the change of player types in NBA. The classic 5-position category is no longer very expressive for the function or characteristic of modern NBA players. For example, traditional point guards focus less on scoring, while Stephen Curry, arguably the best current point guard in NBA, is incredibly good at both scoring and helping his teammates to score. The boundary between the 5 positions has become vague in modern NBA games. To this end, we have the following research questions. \n",
        "* Are there more fine-grained player types in modern NBA? Or do the players become more positionless (i.e. more similar across positions)?\n",
        "* If there are more fine-grained player types, how are these types evovling in different eras of NBA?\n",
        "\n",
        "We propose to address the research questions by network analysis.  We will first define a similarity metric using the player stats, and construct a similarity network of players. Then we will perform community detection on the network to identify different groups of players. We will also construct networks with data from different time periods, and compare the results to how the player types evolve."
      ]
    },
    {
      "cell_type": "markdown",
      "metadata": {
        "id": "WrnFBf2grwrv",
        "colab_type": "text"
      },
      "source": [
        "## Dataset Overview"
      ]
    },
    {
      "cell_type": "markdown",
      "metadata": {
        "id": "nUHzKmIwoXpO",
        "colab_type": "text"
      },
      "source": [
        "This dataset contains aggregate individual statistics for each NBA player. It covers a wide range of period from 1950 to 2017 including 67 NBA seasons. The detailed information includes year, player name, team, games played, minutes played, total points, true shooting percentage and etc. A detailed description of the data can also be found at https://www.basketball-reference.com/about/glossary.html."
      ]
    },
    {
      "cell_type": "markdown",
      "metadata": {
        "id": "XjNzp1XToHxL",
        "colab_type": "text"
      },
      "source": [
        "The dataset is directly obatined from Kaggle page https://www.kaggle.com/drgilermo/nba-players-stats#Seasons_Stats.csv. The author of Kaggle project scrapped data from https://www.basketball-reference.com/, which is the original source of data."
      ]
    },
    {
      "cell_type": "markdown",
      "metadata": {
        "id": "i91NDzX7OkuL",
        "colab_type": "text"
      },
      "source": [
        "Time permitting, we will later scrap the 2017-2019 seasons ourselves, in order to make the dataset as well as our analysis more complete. For part 1, we will only use the Kaggle dataset."
      ]
    },
    {
      "cell_type": "markdown",
      "metadata": {
        "id": "Q6WZNVuI2IOI",
        "colab_type": "text"
      },
      "source": [
        "## Data Quality Assessment with 4 \"C\"s"
      ]
    },
    {
      "cell_type": "code",
      "metadata": {
        "id": "_tb6LFXrHd3n",
        "colab_type": "code",
        "colab": {}
      },
      "source": [
        "import pandas as pd\n",
        "import matplotlib.pyplot as plt\n",
        "# Get Data From GitHub\n",
        "url = \"https://raw.githubusercontent.com/mengqiuteng/ids-final/master/data/seasons_stats.csv\"\n",
        "df = pd.read_csv(url)\n",
        "df = df.rename(columns= {\"Unnamed: 0\": \"index\"}).set_index(\"index\")\n",
        "# Drop blank rows and columns\n",
        "df = df.dropna(axis=0, how=\"all\")\n",
        "df = df.drop(columns=[\"blanl\", \"blank2\"])"
      ],
      "execution_count": 0,
      "outputs": []
    },
    {
      "cell_type": "markdown",
      "metadata": {
        "id": "xovdu0RH4P5w",
        "colab_type": "text"
      },
      "source": [
        "### Completeness\n",
        "The data is realtively complete. The original csv file comes with two columns that were completely empty and has no value at all (\"blan1\", \"blank2\" columns) and hence we deleted these two columns for all records. Furthermore, the original csv comes with some extra empty rows and we dropped those empty rows as well. After this simple cleaning, the data was pretty complete. \n",
        "\n",
        "Before 1985, some player statistics were not recorded (e.g., TOV turnovers) thus leaving empty blanks in some columns. \n",
        "It has record since 1950 with player name, position, team and age. Since 1985, over 80% of the rows are complete, and most of the empty blanks belong to palyers with no enough playing minutes. \n",
        "\n",
        "Later in the anlaysis of the data, we will further drop certain records to address different concerns. For example, since the number of games in each regular season was not 82 before 1967, we will drop games before 1967 in the minutes played analysis for consistency. Also, some edge players have very few records, when anlyzing the style of each player, we will eliminate players with too few minutes played to reduce variance in data."
      ]
    },
    {
      "cell_type": "code",
      "metadata": {
        "id": "41JX9fsabIbM",
        "colab_type": "code",
        "outputId": "edea5e78-9902-4f60-d9c4-c62bb855c092",
        "colab": {
          "base_uri": "https://localhost:8080/",
          "height": 397
        }
      },
      "source": [
        "df['complete'] = ~df.isna().any(axis=1)\n",
        "s_complete = df[df[\"complete\"]][\"Year\"]\n",
        "s_incomplete = df[~df[\"complete\"]][\"Year\"]\n",
        "plt.figure(figsize=(8, 6))\n",
        "plt.hist([s_complete, s_incomplete], stacked=True, bins=10)\n",
        "plt.ylabel(\"Number of Records\", fontsize=16)\n",
        "plt.xlabel(\"Year\", fontsize=16)\n",
        "plt.tick_params(labelsize=14)\n",
        "# plt.title('Number of complete and incomplete records in dataset for different years.', fontdict = {'fontsize' : 20})\n",
        "plt.legend([\"# of complete records\", \"# of incomplete records\"], prop={'size': 12})\n",
        "plt.show()"
      ],
      "execution_count": 0,
      "outputs": [
        {
          "output_type": "display_data",
          "data": {
            "image/png": "[encoded data removed]",
            "text/plain": [
              "<Figure size 576x432 with 1 Axes>"
            ]
          },
          "metadata": {
            "tags": []
          }
        }
      ]
    },
    {
      "cell_type": "code",
      "metadata": {
        "id": "14I43yXsfkqS",
        "colab_type": "code",
        "outputId": "da6c2803-4ddd-4173-f4d0-eed6d28d287d",
        "colab": {
          "base_uri": "https://localhost:8080/",
          "height": 397
        }
      },
      "source": [
        "count_complete = df[(df[\"complete\"] == True) & (df[\"Year\"] >= 1980)].groupby(\"Year\").count()[\"Player\"]\n",
        "count_incomplete = df[(df[\"complete\"] == False) & (df[\"Year\"] >= 1980)].groupby(\"Year\").count()[\"Player\"]\n",
        "complete_portion = count_complete / (count_incomplete + count_complete) * 100\n",
        "plt.figure(figsize=(8, 6))\n",
        "plt.plot(complete_portion.index, complete_portion)\n",
        "plt.ylabel(\"Percentage of Complete Records\", fontsize=16)\n",
        "plt.xlabel(\"Year\", fontsize=16)\n",
        "plt.tick_params(labelsize=14)\n",
        "plt.show()"
      ],
      "execution_count": 0,
      "outputs": [
        {
          "output_type": "display_data",
          "data": {
            "image/png": "[encoded data removed]",
            "text/plain": [
              "<Figure size 576x432 with 1 Axes>"
            ]
          },
          "metadata": {
            "tags": []
          }
        }
      ]
    },
    {
      "cell_type": "markdown",
      "metadata": {
        "id": "6JcBVh5G-X7L",
        "colab_type": "text"
      },
      "source": [
        "### Coherency\n",
        "Generally the data is coherent. The years are all integers and all lie in the range of 1950 to 2017. Values for percentage information for different fields all lie in the range of 0 to 1. The minutes played by each player in a season are all smaller than 3936 (= 82 * 48), which is maximum possible minutes played for a sesaon. For the vast majority of players, their number of games played in a season is smaller of euqal to 82. However, there do exist around 40 players (e.g. Josh Smith in 14-15 season) who were able to play more than 82 games in a season. After careful checking, we found these are players who were traded and who played games for different teams in the same season. This made it possible for them to indeed play more than 82 games."
      ]
    },
    {
      "cell_type": "code",
      "metadata": {
        "id": "BuYh6-U0Z03S",
        "colab_type": "code",
        "outputId": "daa0f23d-5a62-44fc-c84e-c1dc29e4d737",
        "colab": {
          "base_uri": "https://localhost:8080/",
          "height": 414
        }
      },
      "source": [
        "plt.figure(figsize=(8, 6))\n",
        "plt.ylabel(\"Number of players\", fontsize=16)\n",
        "plt.xlabel(\"Total minutes played by a player in a regular season\", fontsize=16)\n",
        "plt.tick_params(labelsize=14)\n",
        "df[\"MP\"].hist(grid=False)"
      ],
      "execution_count": 0,
      "outputs": [
        {
          "output_type": "execute_result",
          "data": {
            "text/plain": [
              "<matplotlib.axes._subplots.AxesSubplot at 0x7f9b83ba3be0>"
            ]
          },
          "metadata": {
            "tags": []
          },
          "execution_count": 38
        },
        {
          "output_type": "display_data",
          "data": {
            "image/png": "[encoded data removed]",
            "text/plain": [
              "<Figure size 576x432 with 1 Axes>"
            ]
          },
          "metadata": {
            "tags": []
          }
        }
      ]
    },
    {
      "cell_type": "code",
      "metadata": {
        "id": "nQ905N_CZ_Rf",
        "colab_type": "code",
        "outputId": "dc50206b-e762-4bd0-d0df-08baf9997d93",
        "colab": {
          "base_uri": "https://localhost:8080/",
          "height": 34
        }
      },
      "source": [
        "df[\"MP\"].max()"
      ],
      "execution_count": 0,
      "outputs": [
        {
          "output_type": "execute_result",
          "data": {
            "text/plain": [
              "3882.0"
            ]
          },
          "metadata": {
            "tags": []
          },
          "execution_count": 24
        }
      ]
    },
    {
      "cell_type": "code",
      "metadata": {
        "id": "ubstDLtSaFwB",
        "colab_type": "code",
        "outputId": "e87dcd26-d7f0-4c26-f651-41c569cf63a2",
        "colab": {
          "base_uri": "https://localhost:8080/",
          "height": 414
        }
      },
      "source": [
        "plt.figure(figsize=(8, 6))\n",
        "plt.ylabel(\"Number of players\", fontsize=16)\n",
        "plt.xlabel(\"Total number of games played by a single player in a regular season\", fontsize=16)\n",
        "plt.tick_params(labelsize=14)\n",
        "df[\"G\"].hist(bins=20, grid=False)"
      ],
      "execution_count": 0,
      "outputs": [
        {
          "output_type": "execute_result",
          "data": {
            "text/plain": [
              "<matplotlib.axes._subplots.AxesSubplot at 0x7f9b8331cf60>"
            ]
          },
          "metadata": {
            "tags": []
          },
          "execution_count": 39
        },
        {
          "output_type": "display_data",
          "data": {
            "image/png": "[encoded data removed]",
            "text/plain": [
              "<Figure size 576x432 with 1 Axes>"
            ]
          },
          "metadata": {
            "tags": []
          }
        }
      ]
    },
    {
      "cell_type": "code",
      "metadata": {
        "id": "iMPimNwMaT4a",
        "colab_type": "code",
        "outputId": "299b56e3-1018-438a-ed68-fa1f2494c45f",
        "colab": {
          "base_uri": "https://localhost:8080/",
          "height": 340
        }
      },
      "source": [
        "df[df[\"G\"] > 82].head()"
      ],
      "execution_count": 0,
      "outputs": [
        {
          "output_type": "execute_result",
          "data": {
            "text/html": [
              "<div>\n",
              "<style scoped>\n",
              "    .dataframe tbody tr th:only-of-type {\n",
              "        vertical-align: middle;\n",
              "    }\n",
              "\n",
              "    .dataframe tbody tr th {\n",
              "        vertical-align: top;\n",
              "    }\n",
              "\n",
              "    .dataframe thead th {\n",
              "        text-align: right;\n",
              "    }\n",
              "</style>\n",
              "<table border=\"1\" class=\"dataframe\">\n",
              "  <thead>\n",
              "    <tr style=\"text-align: right;\">\n",
              "      <th></th>\n",
              "      <th>Year</th>\n",
              "      <th>Player</th>\n",
              "      <th>Pos</th>\n",
              "      <th>Age</th>\n",
              "      <th>Tm</th>\n",
              "      <th>G</th>\n",
              "      <th>GS</th>\n",
              "      <th>MP</th>\n",
              "      <th>PER</th>\n",
              "      <th>TS%</th>\n",
              "      <th>3PAr</th>\n",
              "      <th>FTr</th>\n",
              "      <th>ORB%</th>\n",
              "      <th>DRB%</th>\n",
              "      <th>TRB%</th>\n",
              "      <th>AST%</th>\n",
              "      <th>STL%</th>\n",
              "      <th>BLK%</th>\n",
              "      <th>TOV%</th>\n",
              "      <th>USG%</th>\n",
              "      <th>OWS</th>\n",
              "      <th>DWS</th>\n",
              "      <th>WS</th>\n",
              "      <th>WS/48</th>\n",
              "      <th>OBPM</th>\n",
              "      <th>DBPM</th>\n",
              "      <th>BPM</th>\n",
              "      <th>VORP</th>\n",
              "      <th>FG</th>\n",
              "      <th>FGA</th>\n",
              "      <th>FG%</th>\n",
              "      <th>3P</th>\n",
              "      <th>3PA</th>\n",
              "      <th>3P%</th>\n",
              "      <th>2P</th>\n",
              "      <th>2PA</th>\n",
              "      <th>2P%</th>\n",
              "      <th>eFG%</th>\n",
              "      <th>FT</th>\n",
              "      <th>FTA</th>\n",
              "      <th>FT%</th>\n",
              "      <th>ORB</th>\n",
              "      <th>DRB</th>\n",
              "      <th>TRB</th>\n",
              "      <th>AST</th>\n",
              "      <th>STL</th>\n",
              "      <th>BLK</th>\n",
              "      <th>TOV</th>\n",
              "      <th>PF</th>\n",
              "      <th>PTS</th>\n",
              "    </tr>\n",
              "    <tr>\n",
              "      <th>index</th>\n",
              "      <th></th>\n",
              "      <th></th>\n",
              "      <th></th>\n",
              "      <th></th>\n",
              "      <th></th>\n",
              "      <th></th>\n",
              "      <th></th>\n",
              "      <th></th>\n",
              "      <th></th>\n",
              "      <th></th>\n",
              "      <th></th>\n",
              "      <th></th>\n",
              "      <th></th>\n",
              "      <th></th>\n",
              "      <th></th>\n",
              "      <th></th>\n",
              "      <th></th>\n",
              "      <th></th>\n",
              "      <th></th>\n",
              "      <th></th>\n",
              "      <th></th>\n",
              "      <th></th>\n",
              "      <th></th>\n",
              "      <th></th>\n",
              "      <th></th>\n",
              "      <th></th>\n",
              "      <th></th>\n",
              "      <th></th>\n",
              "      <th></th>\n",
              "      <th></th>\n",
              "      <th></th>\n",
              "      <th></th>\n",
              "      <th></th>\n",
              "      <th></th>\n",
              "      <th></th>\n",
              "      <th></th>\n",
              "      <th></th>\n",
              "      <th></th>\n",
              "      <th></th>\n",
              "      <th></th>\n",
              "      <th></th>\n",
              "      <th></th>\n",
              "      <th></th>\n",
              "      <th></th>\n",
              "      <th></th>\n",
              "      <th></th>\n",
              "      <th></th>\n",
              "      <th></th>\n",
              "      <th></th>\n",
              "      <th></th>\n",
              "    </tr>\n",
              "  </thead>\n",
              "  <tbody>\n",
              "    <tr>\n",
              "      <th>2632</th>\n",
              "      <td>1968.0</td>\n",
              "      <td>John Tresvant</td>\n",
              "      <td>PF</td>\n",
              "      <td>28.0</td>\n",
              "      <td>TOT</td>\n",
              "      <td>85.0</td>\n",
              "      <td>NaN</td>\n",
              "      <td>2473.0</td>\n",
              "      <td>13.2</td>\n",
              "      <td>0.503</td>\n",
              "      <td>NaN</td>\n",
              "      <td>0.443</td>\n",
              "      <td>NaN</td>\n",
              "      <td>NaN</td>\n",
              "      <td>NaN</td>\n",
              "      <td>8.3</td>\n",
              "      <td>NaN</td>\n",
              "      <td>NaN</td>\n",
              "      <td>NaN</td>\n",
              "      <td>NaN</td>\n",
              "      <td>2.4</td>\n",
              "      <td>1.7</td>\n",
              "      <td>4.1</td>\n",
              "      <td>0.079</td>\n",
              "      <td>NaN</td>\n",
              "      <td>NaN</td>\n",
              "      <td>NaN</td>\n",
              "      <td>NaN</td>\n",
              "      <td>396.0</td>\n",
              "      <td>867.0</td>\n",
              "      <td>0.457</td>\n",
              "      <td>NaN</td>\n",
              "      <td>NaN</td>\n",
              "      <td>NaN</td>\n",
              "      <td>396.0</td>\n",
              "      <td>867.0</td>\n",
              "      <td>0.457</td>\n",
              "      <td>0.457</td>\n",
              "      <td>250.0</td>\n",
              "      <td>384.0</td>\n",
              "      <td>0.651</td>\n",
              "      <td>NaN</td>\n",
              "      <td>NaN</td>\n",
              "      <td>709.0</td>\n",
              "      <td>160.0</td>\n",
              "      <td>NaN</td>\n",
              "      <td>NaN</td>\n",
              "      <td>NaN</td>\n",
              "      <td>344.0</td>\n",
              "      <td>1042.0</td>\n",
              "    </tr>\n",
              "    <tr>\n",
              "      <th>2676</th>\n",
              "      <td>1969.0</td>\n",
              "      <td>Walt Bellamy*</td>\n",
              "      <td>C</td>\n",
              "      <td>29.0</td>\n",
              "      <td>TOT</td>\n",
              "      <td>88.0</td>\n",
              "      <td>NaN</td>\n",
              "      <td>3159.0</td>\n",
              "      <td>18.0</td>\n",
              "      <td>0.555</td>\n",
              "      <td>NaN</td>\n",
              "      <td>0.560</td>\n",
              "      <td>NaN</td>\n",
              "      <td>NaN</td>\n",
              "      <td>NaN</td>\n",
              "      <td>7.6</td>\n",
              "      <td>NaN</td>\n",
              "      <td>NaN</td>\n",
              "      <td>NaN</td>\n",
              "      <td>NaN</td>\n",
              "      <td>7.7</td>\n",
              "      <td>2.6</td>\n",
              "      <td>10.4</td>\n",
              "      <td>0.157</td>\n",
              "      <td>NaN</td>\n",
              "      <td>NaN</td>\n",
              "      <td>NaN</td>\n",
              "      <td>NaN</td>\n",
              "      <td>563.0</td>\n",
              "      <td>1103.0</td>\n",
              "      <td>0.510</td>\n",
              "      <td>NaN</td>\n",
              "      <td>NaN</td>\n",
              "      <td>NaN</td>\n",
              "      <td>563.0</td>\n",
              "      <td>1103.0</td>\n",
              "      <td>0.510</td>\n",
              "      <td>0.510</td>\n",
              "      <td>401.0</td>\n",
              "      <td>618.0</td>\n",
              "      <td>0.649</td>\n",
              "      <td>NaN</td>\n",
              "      <td>NaN</td>\n",
              "      <td>1101.0</td>\n",
              "      <td>176.0</td>\n",
              "      <td>NaN</td>\n",
              "      <td>NaN</td>\n",
              "      <td>NaN</td>\n",
              "      <td>320.0</td>\n",
              "      <td>1527.0</td>\n",
              "    </tr>\n",
              "    <tr>\n",
              "      <th>2741</th>\n",
              "      <td>1969.0</td>\n",
              "      <td>Fred Hetzel</td>\n",
              "      <td>SF</td>\n",
              "      <td>26.0</td>\n",
              "      <td>TOT</td>\n",
              "      <td>84.0</td>\n",
              "      <td>NaN</td>\n",
              "      <td>2276.0</td>\n",
              "      <td>15.6</td>\n",
              "      <td>0.503</td>\n",
              "      <td>NaN</td>\n",
              "      <td>0.341</td>\n",
              "      <td>NaN</td>\n",
              "      <td>NaN</td>\n",
              "      <td>NaN</td>\n",
              "      <td>7.0</td>\n",
              "      <td>NaN</td>\n",
              "      <td>NaN</td>\n",
              "      <td>NaN</td>\n",
              "      <td>NaN</td>\n",
              "      <td>3.2</td>\n",
              "      <td>1.3</td>\n",
              "      <td>4.5</td>\n",
              "      <td>0.095</td>\n",
              "      <td>NaN</td>\n",
              "      <td>NaN</td>\n",
              "      <td>NaN</td>\n",
              "      <td>NaN</td>\n",
              "      <td>456.0</td>\n",
              "      <td>1047.0</td>\n",
              "      <td>0.436</td>\n",
              "      <td>NaN</td>\n",
              "      <td>NaN</td>\n",
              "      <td>NaN</td>\n",
              "      <td>456.0</td>\n",
              "      <td>1047.0</td>\n",
              "      <td>0.436</td>\n",
              "      <td>0.436</td>\n",
              "      <td>299.0</td>\n",
              "      <td>357.0</td>\n",
              "      <td>0.838</td>\n",
              "      <td>NaN</td>\n",
              "      <td>NaN</td>\n",
              "      <td>613.0</td>\n",
              "      <td>112.0</td>\n",
              "      <td>NaN</td>\n",
              "      <td>NaN</td>\n",
              "      <td>NaN</td>\n",
              "      <td>287.0</td>\n",
              "      <td>1211.0</td>\n",
              "    </tr>\n",
              "    <tr>\n",
              "      <th>2762</th>\n",
              "      <td>1969.0</td>\n",
              "      <td>Howard Komives</td>\n",
              "      <td>PG</td>\n",
              "      <td>27.0</td>\n",
              "      <td>TOT</td>\n",
              "      <td>85.0</td>\n",
              "      <td>NaN</td>\n",
              "      <td>2562.0</td>\n",
              "      <td>11.5</td>\n",
              "      <td>0.444</td>\n",
              "      <td>NaN</td>\n",
              "      <td>0.271</td>\n",
              "      <td>NaN</td>\n",
              "      <td>NaN</td>\n",
              "      <td>NaN</td>\n",
              "      <td>20.6</td>\n",
              "      <td>NaN</td>\n",
              "      <td>NaN</td>\n",
              "      <td>NaN</td>\n",
              "      <td>NaN</td>\n",
              "      <td>-0.2</td>\n",
              "      <td>1.6</td>\n",
              "      <td>1.4</td>\n",
              "      <td>0.026</td>\n",
              "      <td>NaN</td>\n",
              "      <td>NaN</td>\n",
              "      <td>NaN</td>\n",
              "      <td>NaN</td>\n",
              "      <td>379.0</td>\n",
              "      <td>974.0</td>\n",
              "      <td>0.389</td>\n",
              "      <td>NaN</td>\n",
              "      <td>NaN</td>\n",
              "      <td>NaN</td>\n",
              "      <td>379.0</td>\n",
              "      <td>974.0</td>\n",
              "      <td>0.389</td>\n",
              "      <td>0.389</td>\n",
              "      <td>211.0</td>\n",
              "      <td>264.0</td>\n",
              "      <td>0.799</td>\n",
              "      <td>NaN</td>\n",
              "      <td>NaN</td>\n",
              "      <td>299.0</td>\n",
              "      <td>403.0</td>\n",
              "      <td>NaN</td>\n",
              "      <td>NaN</td>\n",
              "      <td>NaN</td>\n",
              "      <td>274.0</td>\n",
              "      <td>969.0</td>\n",
              "    </tr>\n",
              "    <tr>\n",
              "      <th>2814</th>\n",
              "      <td>1969.0</td>\n",
              "      <td>Flynn Robinson</td>\n",
              "      <td>PG</td>\n",
              "      <td>27.0</td>\n",
              "      <td>TOT</td>\n",
              "      <td>83.0</td>\n",
              "      <td>NaN</td>\n",
              "      <td>2616.0</td>\n",
              "      <td>18.6</td>\n",
              "      <td>0.501</td>\n",
              "      <td>NaN</td>\n",
              "      <td>0.340</td>\n",
              "      <td>NaN</td>\n",
              "      <td>NaN</td>\n",
              "      <td>NaN</td>\n",
              "      <td>22.1</td>\n",
              "      <td>NaN</td>\n",
              "      <td>NaN</td>\n",
              "      <td>NaN</td>\n",
              "      <td>NaN</td>\n",
              "      <td>4.7</td>\n",
              "      <td>2.0</td>\n",
              "      <td>6.7</td>\n",
              "      <td>0.123</td>\n",
              "      <td>NaN</td>\n",
              "      <td>NaN</td>\n",
              "      <td>NaN</td>\n",
              "      <td>NaN</td>\n",
              "      <td>625.0</td>\n",
              "      <td>1442.0</td>\n",
              "      <td>0.433</td>\n",
              "      <td>NaN</td>\n",
              "      <td>NaN</td>\n",
              "      <td>NaN</td>\n",
              "      <td>625.0</td>\n",
              "      <td>1442.0</td>\n",
              "      <td>0.433</td>\n",
              "      <td>0.433</td>\n",
              "      <td>412.0</td>\n",
              "      <td>491.0</td>\n",
              "      <td>0.839</td>\n",
              "      <td>NaN</td>\n",
              "      <td>NaN</td>\n",
              "      <td>306.0</td>\n",
              "      <td>377.0</td>\n",
              "      <td>NaN</td>\n",
              "      <td>NaN</td>\n",
              "      <td>NaN</td>\n",
              "      <td>261.0</td>\n",
              "      <td>1662.0</td>\n",
              "    </tr>\n",
              "  </tbody>\n",
              "</table>\n",
              "</div>"
            ],
            "text/plain": [
              "         Year          Player Pos   Age   Tm  ...  STL  BLK  TOV     PF     PTS\n",
              "index                                         ...                              \n",
              "2632   1968.0   John Tresvant  PF  28.0  TOT  ...  NaN  NaN  NaN  344.0  1042.0\n",
              "2676   1969.0   Walt Bellamy*   C  29.0  TOT  ...  NaN  NaN  NaN  320.0  1527.0\n",
              "2741   1969.0     Fred Hetzel  SF  26.0  TOT  ...  NaN  NaN  NaN  287.0  1211.0\n",
              "2762   1969.0  Howard Komives  PG  27.0  TOT  ...  NaN  NaN  NaN  274.0   969.0\n",
              "2814   1969.0  Flynn Robinson  PG  27.0  TOT  ...  NaN  NaN  NaN  261.0  1662.0\n",
              "\n",
              "[5 rows x 50 columns]"
            ]
          },
          "metadata": {
            "tags": []
          },
          "execution_count": 33
        }
      ]
    },
    {
      "cell_type": "markdown",
      "metadata": {
        "id": "akA3rg6XCq5V",
        "colab_type": "text"
      },
      "source": [
        "### Correctness\n",
        "The data has relatively high correctness. We manually sampled some records from the Kaggle data and checked them with the records on original website. All information for those records matched up. \n",
        "Furthermore, we made another sample of the records, and check it with the stats.nba.com, which is the official stats site of NBA, aiming to check the correctness of data on basketball-reference.com. The basic stats, such as PTS (points), all matched. Some advanced stats (e.g., USG% usage percentage) are different but close, since different formulas are used on the two websites. Also, the reputation and wide usage of the the site basketball-reference among sports analytics people add to the credebility of the data."
      ]
    },
    {
      "cell_type": "markdown",
      "metadata": {
        "id": "fnsZb8oYEjYD",
        "colab_type": "text"
      },
      "source": [
        "### Accountability\n",
        "The original data come from a reliable website that received high comments from media like New York Times and professional NBA television analyst like Jim Petersen. The data is publicly available online for all people to check and verify. All the modifications we make to the original data were carefully recorded. Before making claims on the data, we also cross-verified information from other sources to make sure the claimes are backed up."
      ]
    },
    {
      "cell_type": "markdown",
      "metadata": {
        "id": "KuvKxRFdjUIv",
        "colab_type": "text"
      },
      "source": [
        "## Data Exploratory Analysis"
      ]
    },
    {
      "cell_type": "markdown",
      "metadata": {
        "id": "MV3PS_OktFmk",
        "colab_type": "text"
      },
      "source": [
        "Since the starting date of record is different for different types of information, and some game rules have changed since 1950 while others reminaed the same, we peformed different forms of cleaning for different types of information instead of performing a unified general cleaning. Hence, for the following parts, we will first start each section with a question we would like to answer, how we cleaned data correspondingly and then demonstrate the results."
      ]
    },
    {
      "cell_type": "code",
      "metadata": {
        "id": "x1hVfSDYJXlE",
        "colab_type": "code",
        "outputId": "e36a4a01-24d5-4bfe-da21-cb757093879b",
        "colab": {
          "base_uri": "https://localhost:8080/",
          "height": 306
        }
      },
      "source": [
        "%matplotlib inline\n",
        "import matplotlib.pyplot as plt\n",
        "df.head()"
      ],
      "execution_count": 0,
      "outputs": [
        {
          "output_type": "execute_result",
          "data": {
            "text/html": [
              "<div>\n",
              "<style scoped>\n",
              "    .dataframe tbody tr th:only-of-type {\n",
              "        vertical-align: middle;\n",
              "    }\n",
              "\n",
              "    .dataframe tbody tr th {\n",
              "        vertical-align: top;\n",
              "    }\n",
              "\n",
              "    .dataframe thead th {\n",
              "        text-align: right;\n",
              "    }\n",
              "</style>\n",
              "<table border=\"1\" class=\"dataframe\">\n",
              "  <thead>\n",
              "    <tr style=\"text-align: right;\">\n",
              "      <th></th>\n",
              "      <th>Year</th>\n",
              "      <th>Player</th>\n",
              "      <th>Pos</th>\n",
              "      <th>Age</th>\n",
              "      <th>Tm</th>\n",
              "      <th>G</th>\n",
              "      <th>GS</th>\n",
              "      <th>MP</th>\n",
              "      <th>PER</th>\n",
              "      <th>TS%</th>\n",
              "      <th>3PAr</th>\n",
              "      <th>FTr</th>\n",
              "      <th>ORB%</th>\n",
              "      <th>DRB%</th>\n",
              "      <th>TRB%</th>\n",
              "      <th>AST%</th>\n",
              "      <th>STL%</th>\n",
              "      <th>BLK%</th>\n",
              "      <th>TOV%</th>\n",
              "      <th>USG%</th>\n",
              "      <th>OWS</th>\n",
              "      <th>DWS</th>\n",
              "      <th>WS</th>\n",
              "      <th>WS/48</th>\n",
              "      <th>OBPM</th>\n",
              "      <th>DBPM</th>\n",
              "      <th>BPM</th>\n",
              "      <th>VORP</th>\n",
              "      <th>FG</th>\n",
              "      <th>FGA</th>\n",
              "      <th>FG%</th>\n",
              "      <th>3P</th>\n",
              "      <th>3PA</th>\n",
              "      <th>3P%</th>\n",
              "      <th>2P</th>\n",
              "      <th>2PA</th>\n",
              "      <th>2P%</th>\n",
              "      <th>eFG%</th>\n",
              "      <th>FT</th>\n",
              "      <th>FTA</th>\n",
              "      <th>FT%</th>\n",
              "      <th>ORB</th>\n",
              "      <th>DRB</th>\n",
              "      <th>TRB</th>\n",
              "      <th>AST</th>\n",
              "      <th>STL</th>\n",
              "      <th>BLK</th>\n",
              "      <th>TOV</th>\n",
              "      <th>PF</th>\n",
              "      <th>PTS</th>\n",
              "    </tr>\n",
              "    <tr>\n",
              "      <th>index</th>\n",
              "      <th></th>\n",
              "      <th></th>\n",
              "      <th></th>\n",
              "      <th></th>\n",
              "      <th></th>\n",
              "      <th></th>\n",
              "      <th></th>\n",
              "      <th></th>\n",
              "      <th></th>\n",
              "      <th></th>\n",
              "      <th></th>\n",
              "      <th></th>\n",
              "      <th></th>\n",
              "      <th></th>\n",
              "      <th></th>\n",
              "      <th></th>\n",
              "      <th></th>\n",
              "      <th></th>\n",
              "      <th></th>\n",
              "      <th></th>\n",
              "      <th></th>\n",
              "      <th></th>\n",
              "      <th></th>\n",
              "      <th></th>\n",
              "      <th></th>\n",
              "      <th></th>\n",
              "      <th></th>\n",
              "      <th></th>\n",
              "      <th></th>\n",
              "      <th></th>\n",
              "      <th></th>\n",
              "      <th></th>\n",
              "      <th></th>\n",
              "      <th></th>\n",
              "      <th></th>\n",
              "      <th></th>\n",
              "      <th></th>\n",
              "      <th></th>\n",
              "      <th></th>\n",
              "      <th></th>\n",
              "      <th></th>\n",
              "      <th></th>\n",
              "      <th></th>\n",
              "      <th></th>\n",
              "      <th></th>\n",
              "      <th></th>\n",
              "      <th></th>\n",
              "      <th></th>\n",
              "      <th></th>\n",
              "      <th></th>\n",
              "    </tr>\n",
              "  </thead>\n",
              "  <tbody>\n",
              "    <tr>\n",
              "      <th>0</th>\n",
              "      <td>1950.0</td>\n",
              "      <td>Curly Armstrong</td>\n",
              "      <td>G-F</td>\n",
              "      <td>31.0</td>\n",
              "      <td>FTW</td>\n",
              "      <td>63.0</td>\n",
              "      <td>NaN</td>\n",
              "      <td>NaN</td>\n",
              "      <td>NaN</td>\n",
              "      <td>0.368</td>\n",
              "      <td>NaN</td>\n",
              "      <td>0.467</td>\n",
              "      <td>NaN</td>\n",
              "      <td>NaN</td>\n",
              "      <td>NaN</td>\n",
              "      <td>NaN</td>\n",
              "      <td>NaN</td>\n",
              "      <td>NaN</td>\n",
              "      <td>NaN</td>\n",
              "      <td>NaN</td>\n",
              "      <td>-0.1</td>\n",
              "      <td>3.6</td>\n",
              "      <td>3.5</td>\n",
              "      <td>NaN</td>\n",
              "      <td>NaN</td>\n",
              "      <td>NaN</td>\n",
              "      <td>NaN</td>\n",
              "      <td>NaN</td>\n",
              "      <td>144.0</td>\n",
              "      <td>516.0</td>\n",
              "      <td>0.279</td>\n",
              "      <td>NaN</td>\n",
              "      <td>NaN</td>\n",
              "      <td>NaN</td>\n",
              "      <td>144.0</td>\n",
              "      <td>516.0</td>\n",
              "      <td>0.279</td>\n",
              "      <td>0.279</td>\n",
              "      <td>170.0</td>\n",
              "      <td>241.0</td>\n",
              "      <td>0.705</td>\n",
              "      <td>NaN</td>\n",
              "      <td>NaN</td>\n",
              "      <td>NaN</td>\n",
              "      <td>176.0</td>\n",
              "      <td>NaN</td>\n",
              "      <td>NaN</td>\n",
              "      <td>NaN</td>\n",
              "      <td>217.0</td>\n",
              "      <td>458.0</td>\n",
              "    </tr>\n",
              "    <tr>\n",
              "      <th>1</th>\n",
              "      <td>1950.0</td>\n",
              "      <td>Cliff Barker</td>\n",
              "      <td>SG</td>\n",
              "      <td>29.0</td>\n",
              "      <td>INO</td>\n",
              "      <td>49.0</td>\n",
              "      <td>NaN</td>\n",
              "      <td>NaN</td>\n",
              "      <td>NaN</td>\n",
              "      <td>0.435</td>\n",
              "      <td>NaN</td>\n",
              "      <td>0.387</td>\n",
              "      <td>NaN</td>\n",
              "      <td>NaN</td>\n",
              "      <td>NaN</td>\n",
              "      <td>NaN</td>\n",
              "      <td>NaN</td>\n",
              "      <td>NaN</td>\n",
              "      <td>NaN</td>\n",
              "      <td>NaN</td>\n",
              "      <td>1.6</td>\n",
              "      <td>0.6</td>\n",
              "      <td>2.2</td>\n",
              "      <td>NaN</td>\n",
              "      <td>NaN</td>\n",
              "      <td>NaN</td>\n",
              "      <td>NaN</td>\n",
              "      <td>NaN</td>\n",
              "      <td>102.0</td>\n",
              "      <td>274.0</td>\n",
              "      <td>0.372</td>\n",
              "      <td>NaN</td>\n",
              "      <td>NaN</td>\n",
              "      <td>NaN</td>\n",
              "      <td>102.0</td>\n",
              "      <td>274.0</td>\n",
              "      <td>0.372</td>\n",
              "      <td>0.372</td>\n",
              "      <td>75.0</td>\n",
              "      <td>106.0</td>\n",
              "      <td>0.708</td>\n",
              "      <td>NaN</td>\n",
              "      <td>NaN</td>\n",
              "      <td>NaN</td>\n",
              "      <td>109.0</td>\n",
              "      <td>NaN</td>\n",
              "      <td>NaN</td>\n",
              "      <td>NaN</td>\n",
              "      <td>99.0</td>\n",
              "      <td>279.0</td>\n",
              "    </tr>\n",
              "    <tr>\n",
              "      <th>2</th>\n",
              "      <td>1950.0</td>\n",
              "      <td>Leo Barnhorst</td>\n",
              "      <td>SF</td>\n",
              "      <td>25.0</td>\n",
              "      <td>CHS</td>\n",
              "      <td>67.0</td>\n",
              "      <td>NaN</td>\n",
              "      <td>NaN</td>\n",
              "      <td>NaN</td>\n",
              "      <td>0.394</td>\n",
              "      <td>NaN</td>\n",
              "      <td>0.259</td>\n",
              "      <td>NaN</td>\n",
              "      <td>NaN</td>\n",
              "      <td>NaN</td>\n",
              "      <td>NaN</td>\n",
              "      <td>NaN</td>\n",
              "      <td>NaN</td>\n",
              "      <td>NaN</td>\n",
              "      <td>NaN</td>\n",
              "      <td>0.9</td>\n",
              "      <td>2.8</td>\n",
              "      <td>3.6</td>\n",
              "      <td>NaN</td>\n",
              "      <td>NaN</td>\n",
              "      <td>NaN</td>\n",
              "      <td>NaN</td>\n",
              "      <td>NaN</td>\n",
              "      <td>174.0</td>\n",
              "      <td>499.0</td>\n",
              "      <td>0.349</td>\n",
              "      <td>NaN</td>\n",
              "      <td>NaN</td>\n",
              "      <td>NaN</td>\n",
              "      <td>174.0</td>\n",
              "      <td>499.0</td>\n",
              "      <td>0.349</td>\n",
              "      <td>0.349</td>\n",
              "      <td>90.0</td>\n",
              "      <td>129.0</td>\n",
              "      <td>0.698</td>\n",
              "      <td>NaN</td>\n",
              "      <td>NaN</td>\n",
              "      <td>NaN</td>\n",
              "      <td>140.0</td>\n",
              "      <td>NaN</td>\n",
              "      <td>NaN</td>\n",
              "      <td>NaN</td>\n",
              "      <td>192.0</td>\n",
              "      <td>438.0</td>\n",
              "    </tr>\n",
              "    <tr>\n",
              "      <th>3</th>\n",
              "      <td>1950.0</td>\n",
              "      <td>Ed Bartels</td>\n",
              "      <td>F</td>\n",
              "      <td>24.0</td>\n",
              "      <td>TOT</td>\n",
              "      <td>15.0</td>\n",
              "      <td>NaN</td>\n",
              "      <td>NaN</td>\n",
              "      <td>NaN</td>\n",
              "      <td>0.312</td>\n",
              "      <td>NaN</td>\n",
              "      <td>0.395</td>\n",
              "      <td>NaN</td>\n",
              "      <td>NaN</td>\n",
              "      <td>NaN</td>\n",
              "      <td>NaN</td>\n",
              "      <td>NaN</td>\n",
              "      <td>NaN</td>\n",
              "      <td>NaN</td>\n",
              "      <td>NaN</td>\n",
              "      <td>-0.5</td>\n",
              "      <td>-0.1</td>\n",
              "      <td>-0.6</td>\n",
              "      <td>NaN</td>\n",
              "      <td>NaN</td>\n",
              "      <td>NaN</td>\n",
              "      <td>NaN</td>\n",
              "      <td>NaN</td>\n",
              "      <td>22.0</td>\n",
              "      <td>86.0</td>\n",
              "      <td>0.256</td>\n",
              "      <td>NaN</td>\n",
              "      <td>NaN</td>\n",
              "      <td>NaN</td>\n",
              "      <td>22.0</td>\n",
              "      <td>86.0</td>\n",
              "      <td>0.256</td>\n",
              "      <td>0.256</td>\n",
              "      <td>19.0</td>\n",
              "      <td>34.0</td>\n",
              "      <td>0.559</td>\n",
              "      <td>NaN</td>\n",
              "      <td>NaN</td>\n",
              "      <td>NaN</td>\n",
              "      <td>20.0</td>\n",
              "      <td>NaN</td>\n",
              "      <td>NaN</td>\n",
              "      <td>NaN</td>\n",
              "      <td>29.0</td>\n",
              "      <td>63.0</td>\n",
              "    </tr>\n",
              "    <tr>\n",
              "      <th>4</th>\n",
              "      <td>1950.0</td>\n",
              "      <td>Ed Bartels</td>\n",
              "      <td>F</td>\n",
              "      <td>24.0</td>\n",
              "      <td>DNN</td>\n",
              "      <td>13.0</td>\n",
              "      <td>NaN</td>\n",
              "      <td>NaN</td>\n",
              "      <td>NaN</td>\n",
              "      <td>0.308</td>\n",
              "      <td>NaN</td>\n",
              "      <td>0.378</td>\n",
              "      <td>NaN</td>\n",
              "      <td>NaN</td>\n",
              "      <td>NaN</td>\n",
              "      <td>NaN</td>\n",
              "      <td>NaN</td>\n",
              "      <td>NaN</td>\n",
              "      <td>NaN</td>\n",
              "      <td>NaN</td>\n",
              "      <td>-0.5</td>\n",
              "      <td>-0.1</td>\n",
              "      <td>-0.6</td>\n",
              "      <td>NaN</td>\n",
              "      <td>NaN</td>\n",
              "      <td>NaN</td>\n",
              "      <td>NaN</td>\n",
              "      <td>NaN</td>\n",
              "      <td>21.0</td>\n",
              "      <td>82.0</td>\n",
              "      <td>0.256</td>\n",
              "      <td>NaN</td>\n",
              "      <td>NaN</td>\n",
              "      <td>NaN</td>\n",
              "      <td>21.0</td>\n",
              "      <td>82.0</td>\n",
              "      <td>0.256</td>\n",
              "      <td>0.256</td>\n",
              "      <td>17.0</td>\n",
              "      <td>31.0</td>\n",
              "      <td>0.548</td>\n",
              "      <td>NaN</td>\n",
              "      <td>NaN</td>\n",
              "      <td>NaN</td>\n",
              "      <td>20.0</td>\n",
              "      <td>NaN</td>\n",
              "      <td>NaN</td>\n",
              "      <td>NaN</td>\n",
              "      <td>27.0</td>\n",
              "      <td>59.0</td>\n",
              "    </tr>\n",
              "  </tbody>\n",
              "</table>\n",
              "</div>"
            ],
            "text/plain": [
              "         Year           Player  Pos   Age   Tm  ...  STL  BLK  TOV     PF    PTS\n",
              "index                                           ...                             \n",
              "0      1950.0  Curly Armstrong  G-F  31.0  FTW  ...  NaN  NaN  NaN  217.0  458.0\n",
              "1      1950.0     Cliff Barker   SG  29.0  INO  ...  NaN  NaN  NaN   99.0  279.0\n",
              "2      1950.0    Leo Barnhorst   SF  25.0  CHS  ...  NaN  NaN  NaN  192.0  438.0\n",
              "3      1950.0       Ed Bartels    F  24.0  TOT  ...  NaN  NaN  NaN   29.0   63.0\n",
              "4      1950.0       Ed Bartels    F  24.0  DNN  ...  NaN  NaN  NaN   27.0   59.0\n",
              "\n",
              "[5 rows x 50 columns]"
            ]
          },
          "metadata": {
            "tags": []
          },
          "execution_count": 4
        }
      ]
    },
    {
      "cell_type": "markdown",
      "metadata": {
        "id": "a8NVafNyDpzg",
        "colab_type": "text"
      },
      "source": [
        "### Are the games becoming more offensive?\n",
        "Many rule changes in NBA are said to encourage offense so that the game will be more fun to watch, such as the ban of hand-checking. So are the games become more offensive? We plot a line chart of the average points of a game versus year to illustratet the trend. The plot starts from 1967-1968 season, as since then the regular NBA seanson started to have 82 games."
      ]
    },
    {
      "cell_type": "code",
      "metadata": {
        "id": "W60MfCDeJXFe",
        "colab_type": "code",
        "outputId": "079bd302-d3a0-4480-f461-c60a59890ec2",
        "colab": {
          "base_uri": "https://localhost:8080/",
          "height": 279
        }
      },
      "source": [
        "off = df[df['Year'] > 1967].copy()\n",
        "off = off[off['Tm']!='TOT'].copy()  # TOT is not a team, but means TOTAL for players traded during a season\n",
        "avg_score_team = off[['Year', 'Tm', 'PTS']].groupby(['Year', 'Tm']).sum().reset_index()\n",
        "lockout_games = {1999: 50, 2012: 66}\n",
        "avg_score_team['PTS/G'] = avg_score_team.apply(\n",
        "    lambda row: row['PTS']/82 if row['Year'] not in lockout_games else row['PTS']/lockout_games[row['Year']], \n",
        "    axis=1)  # lock out seasons\n",
        "avg_score = avg_score_team.groupby('Year')['PTS/G'].mean().reset_index()\n",
        "plt.plot(avg_score['Year'], avg_score['PTS/G'])\n",
        "plt.xlabel('Year')\n",
        "plt.ylabel('Average Points per Game')\n",
        "plt.show()"
      ],
      "execution_count": 0,
      "outputs": [
        {
          "output_type": "display_data",
          "data": {
            "image/png": "[encoded data removed]",
            "text/plain": [
              "<Figure size 432x288 with 1 Axes>"
            ]
          },
          "metadata": {
            "tags": []
          }
        }
      ]
    },
    {
      "cell_type": "code",
      "metadata": {
        "id": "bji0OiyecqOm",
        "colab_type": "code",
        "colab": {}
      },
      "source": [
        "avg_df = pd.DataFrame()\n",
        "avg_df['Year'] = avg_score['Year']\n",
        "avg_df['PTS/G'] = avg_score['PTS/G']\n",
        "avg_df.to_csv(\"avg_points_pergame_perteam.csv\")"
      ],
      "execution_count": 0,
      "outputs": []
    },
    {
      "cell_type": "markdown",
      "metadata": {
        "id": "P0vN4zTnQB1X",
        "colab_type": "text"
      },
      "source": [
        "We find generally two drasctic drop in mid 1970s and in the 1990s, and then an increasing trend till 2017. The recent increasing trend agrees with the recent discussion of scoring explosion. The drop in 1990s might have something to do with the league expansion, so many \"worse\" players entered the league, and affected the \"quality\" of the game. It was also said the iso-ball have made offense harder."
      ]
    },
    {
      "cell_type": "markdown",
      "metadata": {
        "id": "wvdNvxu4uQAq",
        "colab_type": "text"
      },
      "source": [
        "### Are players playing less than before?"
      ]
    },
    {
      "cell_type": "code",
      "metadata": {
        "id": "0dMyTZM9C4Bk",
        "colab_type": "code",
        "outputId": "f88e4f46-e917-4d76-c882-b0eb28bc0915",
        "colab": {
          "base_uri": "https://localhost:8080/",
          "height": 292
        }
      },
      "source": [
        "!pip install joypy\n",
        "import joypy"
      ],
      "execution_count": 0,
      "outputs": [
        {
          "output_type": "stream",
          "text": [
            "Collecting joypy\n",
            "  Downloading https://files.pythonhosted.org/packages/a4/71/ca2055776cc4bbd3df2d4e41b97c5df3ea7c096153410e18aa074366c32d/joypy-0.2.1-py2.py3-none-any.whl\n",
            "Requirement already satisfied: pandas>=0.20.0 in /usr/local/lib/python3.6/dist-packages (from joypy) (0.25.3)\n",
            "Requirement already satisfied: numpy in /usr/local/lib/python3.6/dist-packages (from joypy) (1.17.4)\n",
            "Requirement already satisfied: matplotlib in /usr/local/lib/python3.6/dist-packages (from joypy) (3.1.2)\n",
            "Requirement already satisfied: scipy>=0.11.0 in /usr/local/lib/python3.6/dist-packages (from joypy) (1.3.3)\n",
            "Requirement already satisfied: pytz>=2017.2 in /usr/local/lib/python3.6/dist-packages (from pandas>=0.20.0->joypy) (2018.9)\n",
            "Requirement already satisfied: python-dateutil>=2.6.1 in /usr/local/lib/python3.6/dist-packages (from pandas>=0.20.0->joypy) (2.6.1)\n",
            "Requirement already satisfied: cycler>=0.10 in /usr/local/lib/python3.6/dist-packages (from matplotlib->joypy) (0.10.0)\n",
            "Requirement already satisfied: pyparsing!=2.0.4,!=2.1.2,!=2.1.6,>=2.0.1 in /usr/local/lib/python3.6/dist-packages (from matplotlib->joypy) (2.4.5)\n",
            "Requirement already satisfied: kiwisolver>=1.0.1 in /usr/local/lib/python3.6/dist-packages (from matplotlib->joypy) (1.1.0)\n",
            "Requirement already satisfied: six>=1.5 in /usr/local/lib/python3.6/dist-packages (from python-dateutil>=2.6.1->pandas>=0.20.0->joypy) (1.12.0)\n",
            "Requirement already satisfied: setuptools in /usr/local/lib/python3.6/dist-packages (from kiwisolver>=1.0.1->matplotlib->joypy) (42.0.1)\n",
            "Installing collected packages: joypy\n",
            "Successfully installed joypy-0.2.1\n"
          ],
          "name": "stdout"
        }
      ]
    },
    {
      "cell_type": "markdown",
      "metadata": {
        "id": "LNlNapPWuZ5J",
        "colab_type": "text"
      },
      "source": [
        "How does the distribution of the minutes a player played per game change over time? Is it true that players tend to play shorter time in a single game nowadays due to the rising focus on physicial mangement? To answer this question, we made a joyplot with the average minutes a player played in a game. Again, for simplicity and consistency, records before 1967-1968 season are dropped, as only since then the regular NBA seanson started to have 82 games. Also, we exclude players with minutes played smaller than 100 in a season."
      ]
    },
    {
      "cell_type": "code",
      "metadata": {
        "id": "D32cQbhTjbnJ",
        "colab_type": "code",
        "outputId": "1a4d5eb4-9ce5-43a8-dc05-ee20b2209586",
        "colab": {
          "base_uri": "https://localhost:8080/",
          "height": 659
        }
      },
      "source": [
        "play_time = df[df['Year'] > 1967].copy()\n",
        "play_time = play_time[play_time['MP'] >= 100].copy()\n",
        "play_time[\"Era\"] = play_time[\"Year\"] // 5 * 5\n",
        "play_time = play_time[['Era','Player','G', 'MP']].groupby(['Era', 'Player']).sum().reset_index()\n",
        "play_time['MP/G'] = play_time['MP'] / play_time['G']\n",
        "fig, axes = joypy.joyplot(play_time, by='Era', column='MP/G', overlap=1.2, fade=True, figsize=(10 * 0.7, 12 * 0.7))\n",
        "for ax in axes:\n",
        "    ax.tick_params(labelsize=15)\n",
        "# plt.title(\"Minutes played by a single player in a single game for different eras\", fontsize=)\n",
        "fig.text(0.5, -0.05, \"Minutes played by a single player in a single game\", ha='center', fontsize=17)\n",
        "fig.text(-0.1, 0.5, \"Era(Year)\", ha='center', fontsize=17, rotation='vertical')\n",
        "fig.savefig(\"minutesplayedjoy.png\", format=\"png\")\n",
        "plt.show()"
      ],
      "execution_count": 0,
      "outputs": [
        {
          "output_type": "display_data",
          "data": {
            "image/png": "[encoded data removed]",
            "text/plain": [
              "<Figure size 504x604.8 with 12 Axes>"
            ]
          },
          "metadata": {
            "tags": []
          }
        }
      ]
    },
    {
      "cell_type": "markdown",
      "metadata": {
        "id": "OtgyH3ebEoaj",
        "colab_type": "text"
      },
      "source": [
        "As shown in the plot, the distribution of playing time becomes more and more concentrate. In other words, fewer players have extreme average minutes played (i.e., more than 40 mins). On the other hand, the bench players have higher playing time, as they are making up of the time left by the top players. So, the observation can be interpreted as that top players are playing a little bit fewer so as to better protect themselves."
      ]
    }
  ]
}